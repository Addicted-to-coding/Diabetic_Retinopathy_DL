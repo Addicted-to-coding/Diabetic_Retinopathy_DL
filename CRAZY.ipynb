{
 "cells": [
  {
   "cell_type": "code",
   "execution_count": 1,
   "id": "b018f471",
   "metadata": {},
   "outputs": [],
   "source": [
    "from torch.utils.data import Dataset\n",
    "import pandas as pd\n",
    "from PIL import Image\n",
    "import numpy as np\n",
    "import pickle\n",
    "from torch.utils import data\n",
    "import torch\n",
    "import random\n",
    "import matplotlib.pyplot as plt\n",
    "from os import path"
   ]
  },
  {
   "cell_type": "code",
   "execution_count": 7,
   "id": "b1e7f12b",
   "metadata": {},
   "outputs": [],
   "source": [
    "''' for resizing images\n",
    "import cv2\n",
    "\n",
    "def resize_and_save_images(loc, original_dir, saving_dir, height = 160, width = 160):\n",
    "    data = pd.read_csv(loc)\n",
    "    for i in range(len(data)):\n",
    "        image_filename = f'{data.iloc[i].id_code.strip()}.png'\n",
    "        file_loc = original_dir + image_filename\n",
    "        saving_loc = saving_dir + image_filename\n",
    "        if not path.exists(saving_loc):\n",
    "            try:\n",
    "                img = cv2.imread(file_loc)\n",
    "                img = cv2.resize(img, (width, height))\n",
    "                cv2.imwrite(saving_loc, img)\n",
    "            except:\n",
    "                unsaved.append(f'{image_filename}')\n",
    "                # print(f'{image_filename}')\n",
    "                \n",
    "resize_and_save_images('/u/home/r/rosemary/scratch/train.csv', \n",
    "                       '/u/home/r/rosemary/scratch/train_images_resized/', \n",
    "                       '/u/home/r/rosemary/scratch/train_images_smol/')\n",
    "'''"
   ]
  },
  {
   "cell_type": "code",
   "execution_count": 2,
   "id": "0cfe3341",
   "metadata": {},
   "outputs": [],
   "source": [
    "def get_image_label(data, dir, indices):\n",
    "\n",
    "    # just looking at 32 examples for testing purposes\n",
    "    X = np.array([np.asarray(Image.open(f'{dir}{data.iloc[i].id_code}.png')) for i in indices])\n",
    "    y = np.array([int(data.iloc[i].diagnosis) for i in indices])\n",
    "\n",
    "    return X,y\n",
    "\n",
    "def get_dataset(path, dir, train_size = 0.8, valid_size = 0.1):\n",
    "\n",
    "    data = pd.read_csv(path)\n",
    "    arr = [i for i in range(len(data))]\n",
    "    random.shuffle(arr)\n",
    "    train_indices = arr[: int(train_size * len(data)) ]\n",
    "    train_X, train_y = get_image_label(data, dir, train_indices)\n",
    "    train_X = train_X / 255.0\n",
    "\n",
    "    valid_indices = arr[int(train_size * len(data)) : int((train_size + valid_size) * len(data))]\n",
    "    valid_X, valid_y = get_image_label(data, dir, valid_indices)\n",
    "    valid_X = valid_X / 255.0\n",
    "\n",
    "    test_indices = arr[int((train_size + valid_size) * len(data)) : ]\n",
    "    test_X, test_y = get_image_label(data, dir, test_indices)\n",
    "    test_X = test_X / 255.0\n",
    "\n",
    "    return train_X, train_y, valid_X, valid_y, test_X, test_y\n"
   ]
  },
  {
   "cell_type": "code",
   "execution_count": 3,
   "id": "0918a91a",
   "metadata": {},
   "outputs": [
    {
     "data": {
      "text/plain": [
       "((2929, 160, 160, 3),\n",
       " (2929,),\n",
       " (366, 160, 160, 3),\n",
       " (366,),\n",
       " (367, 160, 160, 3),\n",
       " (367,))"
      ]
     },
     "execution_count": 3,
     "metadata": {},
     "output_type": "execute_result"
    }
   ],
   "source": [
    "train_X, train_y, valid_X, valid_y, test_X, test_y = get_dataset(\"/u/home/r/rosemary/scratch/train.csv\", \n",
    "                                                                 '/u/home/r/rosemary/scratch/train_images_smol/')\n",
    "train_X.shape, train_y.shape, valid_X.shape, valid_y.shape, test_X.shape, test_y.shape"
   ]
  },
  {
   "cell_type": "code",
   "execution_count": 4,
   "id": "11c755c2",
   "metadata": {},
   "outputs": [],
   "source": [
    "class DataGenerator(Dataset):\n",
    "    def __init__(self, X, y):\n",
    "        super(DataGenerator, self).__init__()\n",
    "        self.X = np.transpose(X, (0, 3, 1, 2))\n",
    "        self.y = y\n",
    "        self.length = len(X)\n",
    "\n",
    "    def __getitem__(self, index):\n",
    "        return self.X[index], self.y[index]\n",
    "\n",
    "    def __len__(self):\n",
    "        return self.length"
   ]
  },
  {
   "cell_type": "code",
   "execution_count": 5,
   "id": "7be1f6e5",
   "metadata": {},
   "outputs": [],
   "source": [
    "bsz = 128\n",
    "\n",
    "train_dataset = DataGenerator(train_X, train_y)\n",
    "train_loader = data.DataLoader(train_dataset, batch_size= bsz, shuffle = True)\n",
    "\n",
    "valid_dataset = DataGenerator(valid_X, valid_y)\n",
    "valid_loader = data.DataLoader(valid_dataset, batch_size = bsz, shuffle = True)\n",
    "\n",
    "test_dataset = DataGenerator(test_X, test_y)\n",
    "test_loader = data.DataLoader(test_dataset, batch_size = bsz, shuffle = False)"
   ]
  },
  {
   "cell_type": "code",
   "execution_count": 6,
   "id": "b2508ec4",
   "metadata": {},
   "outputs": [],
   "source": [
    "class generate_model(torch.nn.Module):\n",
    "\n",
    "    def __init__(self, base_model, hidden = 128, num_outs = 5):\n",
    "        super(generate_model, self).__init__()\n",
    "\n",
    "        # create a dummy input\n",
    "        dummy_input = torch.rand(1, 3, 320, 320)\n",
    "        out = base_model(dummy_input.to(device).float())\n",
    "        input_size = out.shape[1]\n",
    "\n",
    "        self.base_model = base_model\n",
    "        self.fc = torch.nn.Sequential(\n",
    "                                torch.nn.Linear(input_size, hidden), \n",
    "                                torch.nn.ReLU(),\n",
    "                                torch.nn.Linear(hidden, num_outs)\n",
    "                                )\n",
    "\n",
    "    def forward(self, x):\n",
    "        x = self.base_model(x)\n",
    "        pred = self.fc(x)\n",
    "        return pred"
   ]
  },
  {
   "cell_type": "code",
   "execution_count": 7,
   "id": "1ece4048",
   "metadata": {},
   "outputs": [],
   "source": [
    "import torchvision.models as models\n",
    "\n",
    "device = torch.device('cuda' if torch.cuda.is_available() else 'cpu')\n"
   ]
  },
  {
   "cell_type": "code",
   "execution_count": 8,
   "id": "6b978c69",
   "metadata": {},
   "outputs": [
    {
     "name": "stdout",
     "output_type": "stream",
     "text": [
      "cpu\n"
     ]
    }
   ],
   "source": [
    "print(device)"
   ]
  },
  {
   "cell_type": "code",
   "execution_count": 16,
   "id": "927337e1",
   "metadata": {},
   "outputs": [],
   "source": [
    "basemodel = models.vgg16().to(device)\n",
    "model = generate_model(base_model = basemodel).to(device)\n",
    "\n",
    "model_file = \"vgg16.pt\"\n",
    "\n",
    "lr = 1e-4\n",
    "\n",
    "optimizer = torch.optim.Adam(\n",
    "    model.parameters(),\n",
    "    lr=lr)\n",
    "\n",
    "criterion = torch.nn.CrossEntropyLoss()"
   ]
  },
  {
   "cell_type": "code",
   "execution_count": 17,
   "id": "556cedd9",
   "metadata": {},
   "outputs": [],
   "source": [
    "# from torchsummary import summary\n",
    "# from pytorch_model_summary import summary\n",
    "\n",
    "# summary(model, torch.zeros(1,3, 160, 160).to(device).float(), show_input=True)"
   ]
  },
  {
   "cell_type": "code",
   "execution_count": 18,
   "id": "db659115",
   "metadata": {},
   "outputs": [],
   "source": [
    "def evaluate(model, objective, loader):\n",
    "\n",
    "    model.eval()\n",
    "    total_loss = 0\n",
    "    size = 0\n",
    "    \n",
    "    with torch.no_grad():\n",
    "        for batch_idx, data_batch in enumerate(loader):\n",
    "\n",
    "            X, y = data_batch[0].to(device).float(), data_batch[1].to(device)\n",
    "            # X, y = map(lambda t: t.to(device).float(), (X, y))\n",
    "\n",
    "            prediction = model(X)\n",
    "            total_loss += objective(prediction, y) * X.shape[0]\n",
    "            size += X.shape[0]\n",
    "\n",
    "    total_loss = total_loss / size\n",
    "\n",
    "    return total_loss\n",
    "\n",
    "def train(model, objective, optimizer, train_loader, valid_loader, epochs = 1, save_interval = 1, patience = 3):\n",
    "  \n",
    "    model.train()\n",
    "\n",
    "    val_loss = 1e7\n",
    "    pat = patience\n",
    "\n",
    "    for epoch in range(1, epochs + 1):\n",
    "        train_loss = 0\n",
    "        size = 0\n",
    "\n",
    "        for batch_idx, data_batch in enumerate(train_loader):\n",
    "\n",
    "            optimizer.zero_grad()\n",
    "\n",
    "            train_X, train_y = data_batch[0].to(device).float(), data_batch[1].to(device)\n",
    "            # train_X, train_y = map(lambda t: t.to(device).float(), (train_X, train_y))\n",
    "\n",
    "            prediction = model(train_X)\n",
    "            loss = objective(prediction, train_y)\n",
    "            loss.backward()\n",
    "\n",
    "            train_loss += loss.item() * train_X.shape[0]\n",
    "            size += train_X.shape[0]\n",
    "\n",
    "            optimizer.step()\n",
    "\n",
    "        avg_loss = train_loss / size\n",
    "\n",
    "        rt_val_loss = evaluate(model, objective, valid_loader)\n",
    "        model.train()\n",
    "\n",
    "        print(f'Epoch {epoch}: Training Loss : {avg_loss} | Validation loss : {rt_val_loss}')\n",
    "\n",
    "        if rt_val_loss < val_loss:\n",
    "            val_loss = rt_val_loss\n",
    "            torch.save(model.state_dict(), model_file)\n",
    "            pat = patience\n",
    "        else:\n",
    "            pat = pat - 1\n",
    "            if pat == 0:\n",
    "                print('Training Complete --> Exiting')\n",
    "                break    "
   ]
  },
  {
   "cell_type": "code",
   "execution_count": null,
   "id": "f46d0b17",
   "metadata": {},
   "outputs": [
    {
     "name": "stdout",
     "output_type": "stream",
     "text": [
      "Epoch 1: Training Loss : 1.3655645506664444 | Validation loss : 1.2529411315917969\n",
      "Epoch 2: Training Loss : 1.0843689627271336 | Validation loss : 1.0093023777008057\n",
      "Epoch 3: Training Loss : 0.9679289818542652 | Validation loss : 0.930590033531189\n",
      "Epoch 4: Training Loss : 0.874453433872938 | Validation loss : 0.8248466849327087\n",
      "Epoch 5: Training Loss : 0.820864018908781 | Validation loss : 0.8088432550430298\n",
      "Epoch 6: Training Loss : 0.8067173152785531 | Validation loss : 0.8106438517570496\n",
      "Epoch 7: Training Loss : 0.7813758129103268 | Validation loss : 0.832765519618988\n",
      "Epoch 8: Training Loss : 0.7958435782722012 | Validation loss : 0.7808632850646973\n"
     ]
    }
   ],
   "source": [
    "train(model, criterion, optimizer, train_loader, valid_loader, epochs = 50)"
   ]
  },
  {
   "cell_type": "code",
   "execution_count": null,
   "id": "c89d67f5",
   "metadata": {},
   "outputs": [],
   "source": [
    "model = torch.load_state_dict(torch.load(model_file))\n",
    "evaluate(model, criterion, test_loader)"
   ]
  }
 ],
 "metadata": {
  "kernelspec": {
   "display_name": "myenv",
   "language": "python",
   "name": "myenv"
  },
  "language_info": {
   "codemirror_mode": {
    "name": "ipython",
    "version": 3
   },
   "file_extension": ".py",
   "mimetype": "text/x-python",
   "name": "python",
   "nbconvert_exporter": "python",
   "pygments_lexer": "ipython3",
   "version": "3.6.13"
  }
 },
 "nbformat": 4,
 "nbformat_minor": 5
}
