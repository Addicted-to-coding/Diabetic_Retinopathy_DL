{
  "nbformat": 4,
  "nbformat_minor": 0,
  "metadata": {
    "colab": {
      "name": "models.ipynb",
      "provenance": []
    },
    "kernelspec": {
      "name": "python3",
      "display_name": "Python 3"
    },
    "language_info": {
      "name": "python"
    }
  },
  "cells": [
    {
      "cell_type": "code",
      "metadata": {
        "id": "O7BZA5AkNWbq"
      },
      "source": [
        "import torch"
      ],
      "execution_count": null,
      "outputs": []
    },
    {
      "cell_type": "code",
      "metadata": {
        "id": "5vXT1HMsZsIV"
      },
      "source": [
        "from torchvision.models.resnet import resnet18 as _resnet18"
      ],
      "execution_count": null,
      "outputs": []
    },
    {
      "cell_type": "code",
      "metadata": {
        "id": "Rln5fBH7bBxN"
      },
      "source": [
        "model = _resnet18(pretrained=False)"
      ],
      "execution_count": null,
      "outputs": []
    },
    {
      "cell_type": "code",
      "metadata": {
        "id": "HDC91szQbDkx"
      },
      "source": [
        "from torchsummary import summary"
      ],
      "execution_count": null,
      "outputs": []
    },
    {
      "cell_type": "code",
      "metadata": {
        "colab": {
          "base_uri": "https://localhost:8080/"
        },
        "id": "TFkn2-BObEOF",
        "outputId": "545e9c5b-8d32-4486-d517-1f1a8ba72825"
      },
      "source": [
        "summary(model, (3, 320, 320))"
      ],
      "execution_count": null,
      "outputs": [
        {
          "output_type": "stream",
          "name": "stderr",
          "text": [
            "/usr/local/lib/python3.7/dist-packages/torch/nn/functional.py:718: UserWarning: Named tensors and all their associated APIs are an experimental feature and subject to change. Please do not use them for anything important until they are released as stable. (Triggered internally at  /pytorch/c10/core/TensorImpl.h:1156.)\n",
            "  return torch.max_pool2d(input, kernel_size, stride, padding, dilation, ceil_mode)\n"
          ]
        },
        {
          "output_type": "stream",
          "name": "stdout",
          "text": [
            "----------------------------------------------------------------\n",
            "        Layer (type)               Output Shape         Param #\n",
            "================================================================\n",
            "            Conv2d-1         [-1, 64, 160, 160]           9,408\n",
            "       BatchNorm2d-2         [-1, 64, 160, 160]             128\n",
            "              ReLU-3         [-1, 64, 160, 160]               0\n",
            "         MaxPool2d-4           [-1, 64, 80, 80]               0\n",
            "            Conv2d-5           [-1, 64, 80, 80]          36,864\n",
            "       BatchNorm2d-6           [-1, 64, 80, 80]             128\n",
            "              ReLU-7           [-1, 64, 80, 80]               0\n",
            "            Conv2d-8           [-1, 64, 80, 80]          36,864\n",
            "       BatchNorm2d-9           [-1, 64, 80, 80]             128\n",
            "             ReLU-10           [-1, 64, 80, 80]               0\n",
            "       BasicBlock-11           [-1, 64, 80, 80]               0\n",
            "           Conv2d-12           [-1, 64, 80, 80]          36,864\n",
            "      BatchNorm2d-13           [-1, 64, 80, 80]             128\n",
            "             ReLU-14           [-1, 64, 80, 80]               0\n",
            "           Conv2d-15           [-1, 64, 80, 80]          36,864\n",
            "      BatchNorm2d-16           [-1, 64, 80, 80]             128\n",
            "             ReLU-17           [-1, 64, 80, 80]               0\n",
            "       BasicBlock-18           [-1, 64, 80, 80]               0\n",
            "           Conv2d-19          [-1, 128, 40, 40]          73,728\n",
            "      BatchNorm2d-20          [-1, 128, 40, 40]             256\n",
            "             ReLU-21          [-1, 128, 40, 40]               0\n",
            "           Conv2d-22          [-1, 128, 40, 40]         147,456\n",
            "      BatchNorm2d-23          [-1, 128, 40, 40]             256\n",
            "           Conv2d-24          [-1, 128, 40, 40]           8,192\n",
            "      BatchNorm2d-25          [-1, 128, 40, 40]             256\n",
            "             ReLU-26          [-1, 128, 40, 40]               0\n",
            "       BasicBlock-27          [-1, 128, 40, 40]               0\n",
            "           Conv2d-28          [-1, 128, 40, 40]         147,456\n",
            "      BatchNorm2d-29          [-1, 128, 40, 40]             256\n",
            "             ReLU-30          [-1, 128, 40, 40]               0\n",
            "           Conv2d-31          [-1, 128, 40, 40]         147,456\n",
            "      BatchNorm2d-32          [-1, 128, 40, 40]             256\n",
            "             ReLU-33          [-1, 128, 40, 40]               0\n",
            "       BasicBlock-34          [-1, 128, 40, 40]               0\n",
            "           Conv2d-35          [-1, 256, 20, 20]         294,912\n",
            "      BatchNorm2d-36          [-1, 256, 20, 20]             512\n",
            "             ReLU-37          [-1, 256, 20, 20]               0\n",
            "           Conv2d-38          [-1, 256, 20, 20]         589,824\n",
            "      BatchNorm2d-39          [-1, 256, 20, 20]             512\n",
            "           Conv2d-40          [-1, 256, 20, 20]          32,768\n",
            "      BatchNorm2d-41          [-1, 256, 20, 20]             512\n",
            "             ReLU-42          [-1, 256, 20, 20]               0\n",
            "       BasicBlock-43          [-1, 256, 20, 20]               0\n",
            "           Conv2d-44          [-1, 256, 20, 20]         589,824\n",
            "      BatchNorm2d-45          [-1, 256, 20, 20]             512\n",
            "             ReLU-46          [-1, 256, 20, 20]               0\n",
            "           Conv2d-47          [-1, 256, 20, 20]         589,824\n",
            "      BatchNorm2d-48          [-1, 256, 20, 20]             512\n",
            "             ReLU-49          [-1, 256, 20, 20]               0\n",
            "       BasicBlock-50          [-1, 256, 20, 20]               0\n",
            "           Conv2d-51          [-1, 512, 10, 10]       1,179,648\n",
            "      BatchNorm2d-52          [-1, 512, 10, 10]           1,024\n",
            "             ReLU-53          [-1, 512, 10, 10]               0\n",
            "           Conv2d-54          [-1, 512, 10, 10]       2,359,296\n",
            "      BatchNorm2d-55          [-1, 512, 10, 10]           1,024\n",
            "           Conv2d-56          [-1, 512, 10, 10]         131,072\n",
            "      BatchNorm2d-57          [-1, 512, 10, 10]           1,024\n",
            "             ReLU-58          [-1, 512, 10, 10]               0\n",
            "       BasicBlock-59          [-1, 512, 10, 10]               0\n",
            "           Conv2d-60          [-1, 512, 10, 10]       2,359,296\n",
            "      BatchNorm2d-61          [-1, 512, 10, 10]           1,024\n",
            "             ReLU-62          [-1, 512, 10, 10]               0\n",
            "           Conv2d-63          [-1, 512, 10, 10]       2,359,296\n",
            "      BatchNorm2d-64          [-1, 512, 10, 10]           1,024\n",
            "             ReLU-65          [-1, 512, 10, 10]               0\n",
            "       BasicBlock-66          [-1, 512, 10, 10]               0\n",
            "AdaptiveAvgPool2d-67            [-1, 512, 1, 1]               0\n",
            "           Linear-68                 [-1, 1000]         513,000\n",
            "================================================================\n",
            "Total params: 11,689,512\n",
            "Trainable params: 11,689,512\n",
            "Non-trainable params: 0\n",
            "----------------------------------------------------------------\n",
            "Input size (MB): 1.17\n",
            "Forward/backward pass size (MB): 128.14\n",
            "Params size (MB): 44.59\n",
            "Estimated Total Size (MB): 173.90\n",
            "----------------------------------------------------------------\n"
          ]
        }
      ]
    },
    {
      "cell_type": "code",
      "metadata": {
        "id": "7Gh-jD5ncBNn"
      },
      "source": [
        ""
      ],
      "execution_count": null,
      "outputs": []
    }
  ]
}